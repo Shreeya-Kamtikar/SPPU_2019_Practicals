{
 "cells": [
  {
   "cell_type": "code",
   "execution_count": 2,
   "id": "64cb9ad1",
   "metadata": {},
   "outputs": [
    {
     "name": "stderr",
     "output_type": "stream",
     "text": [
      "[nltk_data] Downloading package punkt to\n",
      "[nltk_data]     C:\\Users\\shree\\AppData\\Roaming\\nltk_data...\n",
      "[nltk_data]   Package punkt is already up-to-date!\n",
      "[nltk_data] Downloading package stopwords to\n",
      "[nltk_data]     C:\\Users\\shree\\AppData\\Roaming\\nltk_data...\n",
      "[nltk_data]   Unzipping corpora\\stopwords.zip.\n",
      "[nltk_data] Downloading package wordnet to\n",
      "[nltk_data]     C:\\Users\\shree\\AppData\\Roaming\\nltk_data...\n",
      "[nltk_data] Downloading package averaged_perceptron_tagger to\n",
      "[nltk_data]     C:\\Users\\shree\\AppData\\Roaming\\nltk_data...\n",
      "[nltk_data]   Unzipping taggers\\averaged_perceptron_tagger.zip.\n"
     ]
    },
    {
     "data": {
      "text/plain": [
       "True"
      ]
     },
     "execution_count": 2,
     "metadata": {},
     "output_type": "execute_result"
    }
   ],
   "source": [
    "import nltk\n",
    "nltk.download('punkt')\n",
    "nltk.download('stopwords')\n",
    "nltk.download('wordnet')\n",
    "nltk.download('averaged_perceptron_tagger')"
   ]
  },
  {
   "cell_type": "code",
   "execution_count": 3,
   "id": "5f3f808e",
   "metadata": {},
   "outputs": [],
   "source": [
    "corpus = \"This assignment is a text analytics one. Here, processes like tokenization, POS-tagging, Stemming, Lemmatization, etc. have been applied. It also includes TFIDF.\""
   ]
  },
  {
   "cell_type": "code",
   "execution_count": 4,
   "id": "cc1c1003",
   "metadata": {},
   "outputs": [
    {
     "name": "stdout",
     "output_type": "stream",
     "text": [
      "['This', 'assignment', 'is', 'a', 'text', 'analytics', 'one', '.', 'Here', ',', 'processes', 'like', 'tokenization', ',', 'POS-tagging', ',', 'Stemming', ',', 'Lemmatization', ',', 'etc', '.', 'have', 'been', 'applied', '.', 'It', 'also', 'includes', 'TFIDF', '.']\n"
     ]
    }
   ],
   "source": [
    "# Tokenization\n",
    "from nltk import word_tokenize, sent_tokenize\n",
    "print(word_tokenize(corpus))"
   ]
  },
  {
   "cell_type": "code",
   "execution_count": 5,
   "id": "f53482ca",
   "metadata": {},
   "outputs": [
    {
     "name": "stdout",
     "output_type": "stream",
     "text": [
      "['This assignment is a text analytics one.', 'Here, processes like tokenization, POS-tagging, Stemming, Lemmatization, etc.', 'have been applied.', 'It also includes TFIDF.']\n"
     ]
    }
   ],
   "source": [
    "print(sent_tokenize(corpus))"
   ]
  },
  {
   "cell_type": "code",
   "execution_count": 6,
   "id": "5eb94bc0",
   "metadata": {},
   "outputs": [
    {
     "name": "stdout",
     "output_type": "stream",
     "text": [
      "[('This', 'DT'), ('assignment', 'NN'), ('is', 'VBZ'), ('a', 'DT'), ('text', 'JJ'), ('analytics', 'NN'), ('one', 'CD'), ('.', '.'), ('Here', 'RB'), (',', ','), ('processes', 'NNS'), ('like', 'IN'), ('tokenization', 'NN'), (',', ','), ('POS-tagging', 'NNP'), (',', ','), ('Stemming', 'NNP'), (',', ','), ('Lemmatization', 'NNP'), (',', ','), ('etc', 'NN'), ('.', '.'), ('have', 'VBP'), ('been', 'VBN'), ('applied', 'VBN'), ('.', '.'), ('It', 'PRP'), ('also', 'RB'), ('includes', 'VBZ'), ('TFIDF', 'NNP'), ('.', '.')]\n"
     ]
    }
   ],
   "source": [
    "# POS Tagging\n",
    "from nltk import pos_tag\n",
    "tokens = word_tokenize(corpus)\n",
    "print(pos_tag(tokens))"
   ]
  },
  {
   "cell_type": "code",
   "execution_count": 11,
   "id": "febcb60e",
   "metadata": {},
   "outputs": [
    {
     "name": "stdout",
     "output_type": "stream",
     "text": [
      "['This', 'assignment', 'text', 'analytics', 'one', '.', 'Here', ',', 'processes', 'like', 'tokenization', ',', 'POS-tagging', ',', 'Stemming', ',', 'Lemmatization', ',', 'etc', '.', 'applied', '.', 'It', 'also', 'includes', 'TFIDF', '.']\n"
     ]
    }
   ],
   "source": [
    "# Stopword removal\n",
    "from nltk.corpus import stopwords\n",
    "stop_words = set(stopwords.words('english'))\n",
    "tokens = word_tokenize(corpus)\n",
    "cleaned_tokens = []\n",
    "for token in tokens:\n",
    "    if token not in stop_words:\n",
    "        cleaned_tokens.append(token)\n",
    "print(cleaned_tokens)"
   ]
  },
  {
   "cell_type": "code",
   "execution_count": 12,
   "id": "904293a8",
   "metadata": {},
   "outputs": [
    {
     "name": "stdout",
     "output_type": "stream",
     "text": [
      "['thi', 'assign', 'is', 'a', 'text', 'analyt', 'one', '.', 'here', ',', 'process', 'like', 'token', ',', 'pos-tag', ',', 'stem', ',', 'lemmat', ',', 'etc', '.', 'have', 'been', 'appli', '.', 'it', 'also', 'includ', 'tfidf', '.']\n"
     ]
    }
   ],
   "source": [
    "# Stemming\n",
    "from nltk.stem import PorterStemmer\n",
    "stemmer = PorterStemmer()\n",
    "tokens = word_tokenize(corpus)\n",
    "stemmed_tokens = []\n",
    "for token in tokens:\n",
    "    stem_token = stemmer.stem(token)\n",
    "    stemmed_tokens.append(stem_token)\n",
    "print(stemmed_tokens)"
   ]
  },
  {
   "cell_type": "code",
   "execution_count": 13,
   "id": "c8493e2a",
   "metadata": {},
   "outputs": [
    {
     "name": "stdout",
     "output_type": "stream",
     "text": [
      "['This', 'assignment', 'is', 'a', 'text', 'analytics', 'one', '.', 'Here', ',', 'process', 'like', 'tokenization', ',', 'POS-tagging', ',', 'Stemming', ',', 'Lemmatization', ',', 'etc', '.', 'have', 'been', 'applied', '.', 'It', 'also', 'includes', 'TFIDF', '.']\n"
     ]
    }
   ],
   "source": [
    "#Lemmatization\n",
    "from nltk.stem import WordNetLemmatizer\n",
    "lemmatizer = WordNetLemmatizer()\n",
    "tokens = word_tokenize(corpus)\n",
    "lemmatized_tokens = []\n",
    "for token in tokens:\n",
    "    lemm_token = lemmatizer.lemmatize(token)\n",
    "    lemmatized_tokens.append(lemm_token)\n",
    "print(lemmatized_tokens)"
   ]
  },
  {
   "cell_type": "code",
   "execution_count": 16,
   "id": "57661dbb",
   "metadata": {},
   "outputs": [
    {
     "data": {
      "text/plain": [
       "{'this': 20,\n",
       " 'assignment': 3,\n",
       " 'is': 9,\n",
       " 'text': 18,\n",
       " 'analytics': 1,\n",
       " 'one': 13,\n",
       " 'here': 7,\n",
       " 'processes': 15,\n",
       " 'like': 12,\n",
       " 'tokenization': 21,\n",
       " 'pos': 14,\n",
       " 'tagging': 17,\n",
       " 'stemming': 16,\n",
       " 'lemmatization': 11,\n",
       " 'etc': 5,\n",
       " 'have': 6,\n",
       " 'been': 4,\n",
       " 'applied': 2,\n",
       " 'it': 10,\n",
       " 'also': 0,\n",
       " 'includes': 8,\n",
       " 'tfidf': 19}"
      ]
     },
     "execution_count": 16,
     "metadata": {},
     "output_type": "execute_result"
    }
   ],
   "source": [
    "# TF-IDF\n",
    "from sklearn.feature_extraction.text import TfidfVectorizer\n",
    "corpus = [\"This assignment is a text analytics one.\", \n",
    "          \"Here, processes like tokenization, POS-tagging, Stemming, Lemmatization, etc. have been applied.\" ,\n",
    "          \"It also includes TFIDF.\"]\n",
    "vectorizer = TfidfVectorizer()\n",
    "matrix = vectorizer.fit(corpus)\n",
    "matrix.vocabulary_"
   ]
  },
  {
   "cell_type": "code",
   "execution_count": 17,
   "id": "45181863",
   "metadata": {},
   "outputs": [],
   "source": [
    "tfidf_matrix = vectorizer.transform(corpus)"
   ]
  },
  {
   "cell_type": "code",
   "execution_count": 18,
   "id": "9e08f8df",
   "metadata": {},
   "outputs": [
    {
     "name": "stdout",
     "output_type": "stream",
     "text": [
      "  (0, 20)\t0.4082482904638631\n",
      "  (0, 18)\t0.4082482904638631\n",
      "  (0, 13)\t0.4082482904638631\n",
      "  (0, 9)\t0.4082482904638631\n",
      "  (0, 3)\t0.4082482904638631\n",
      "  (0, 1)\t0.4082482904638631\n",
      "  (1, 21)\t0.2886751345948129\n",
      "  (1, 17)\t0.2886751345948129\n",
      "  (1, 16)\t0.2886751345948129\n",
      "  (1, 15)\t0.2886751345948129\n",
      "  (1, 14)\t0.2886751345948129\n",
      "  (1, 12)\t0.2886751345948129\n",
      "  (1, 11)\t0.2886751345948129\n",
      "  (1, 7)\t0.2886751345948129\n",
      "  (1, 6)\t0.2886751345948129\n",
      "  (1, 5)\t0.2886751345948129\n",
      "  (1, 4)\t0.2886751345948129\n",
      "  (1, 2)\t0.2886751345948129\n",
      "  (2, 19)\t0.5\n",
      "  (2, 10)\t0.5\n",
      "  (2, 8)\t0.5\n",
      "  (2, 0)\t0.5\n"
     ]
    }
   ],
   "source": [
    "print(tfidf_matrix)"
   ]
  },
  {
   "cell_type": "code",
   "execution_count": 19,
   "id": "277a4e9b",
   "metadata": {},
   "outputs": [
    {
     "name": "stdout",
     "output_type": "stream",
     "text": [
      "['also' 'analytics' 'applied' 'assignment' 'been' 'etc' 'have' 'here'\n",
      " 'includes' 'is' 'it' 'lemmatization' 'like' 'one' 'pos' 'processes'\n",
      " 'stemming' 'tagging' 'text' 'tfidf' 'this' 'tokenization']\n"
     ]
    }
   ],
   "source": [
    "print(vectorizer.get_feature_names_out())"
   ]
  }
 ],
 "metadata": {
  "kernelspec": {
   "display_name": "Python 3 (ipykernel)",
   "language": "python",
   "name": "python3"
  },
  "language_info": {
   "codemirror_mode": {
    "name": "ipython",
    "version": 3
   },
   "file_extension": ".py",
   "mimetype": "text/x-python",
   "name": "python",
   "nbconvert_exporter": "python",
   "pygments_lexer": "ipython3",
   "version": "3.11.5"
  }
 },
 "nbformat": 4,
 "nbformat_minor": 5
}
