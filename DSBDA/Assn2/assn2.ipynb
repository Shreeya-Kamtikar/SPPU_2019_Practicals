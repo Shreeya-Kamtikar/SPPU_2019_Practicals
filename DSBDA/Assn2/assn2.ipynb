{
 "cells": [
  {
   "cell_type": "markdown",
   "metadata": {},
   "source": [
    "import required libraries"
   ]
  },
  {
   "cell_type": "code",
   "execution_count": 2,
   "metadata": {},
   "outputs": [],
   "source": [
    "import pandas as pd"
   ]
  },
  {
   "cell_type": "code",
   "execution_count": 3,
   "metadata": {},
   "outputs": [],
   "source": [
    "df = pd.read_csv('/home/mmcoe/Desktop/Untitled Folder/Private_data.csv')"
   ]
  },
  {
   "cell_type": "code",
   "execution_count": 4,
   "metadata": {},
   "outputs": [
    {
     "data": {
      "text/html": [
       "<div>\n",
       "<style scoped>\n",
       "    .dataframe tbody tr th:only-of-type {\n",
       "        vertical-align: middle;\n",
       "    }\n",
       "\n",
       "    .dataframe tbody tr th {\n",
       "        vertical-align: top;\n",
       "    }\n",
       "\n",
       "    .dataframe thead th {\n",
       "        text-align: right;\n",
       "    }\n",
       "</style>\n",
       "<table border=\"1\" class=\"dataframe\">\n",
       "  <thead>\n",
       "    <tr style=\"text-align: right;\">\n",
       "      <th></th>\n",
       "      <th>Unnamed: 0</th>\n",
       "      <th>NAME OF THE STUDENT</th>\n",
       "      <th>UNIVERSITY</th>\n",
       "      <th>PROGRAM NAME</th>\n",
       "      <th>Specialisation</th>\n",
       "      <th>SEMESTER</th>\n",
       "      <th>Domain</th>\n",
       "      <th>GENERAL MANAGEMENT SCORE (OUT of 50)</th>\n",
       "      <th>Domain Specific SCORE (OUT 50)</th>\n",
       "      <th>TOTAL SCORE (OUT of 100)</th>\n",
       "      <th>RANK</th>\n",
       "      <th>PERCENTILE</th>\n",
       "    </tr>\n",
       "  </thead>\n",
       "  <tbody>\n",
       "    <tr>\n",
       "      <th>0</th>\n",
       "      <td>0</td>\n",
       "      <td>Camila Wood</td>\n",
       "      <td>Stanford University, USA</td>\n",
       "      <td>B.Com</td>\n",
       "      <td>Honours</td>\n",
       "      <td>5th</td>\n",
       "      <td>Finance</td>\n",
       "      <td>50.0</td>\n",
       "      <td>50.0</td>\n",
       "      <td>100.0</td>\n",
       "      <td>1</td>\n",
       "      <td>1.000000</td>\n",
       "    </tr>\n",
       "    <tr>\n",
       "      <th>1</th>\n",
       "      <td>1</td>\n",
       "      <td>Alexander Thompson</td>\n",
       "      <td>Stanford University, USA</td>\n",
       "      <td>B.Com</td>\n",
       "      <td>Financial Services</td>\n",
       "      <td>5th</td>\n",
       "      <td>Finance</td>\n",
       "      <td>50.0</td>\n",
       "      <td>50.0</td>\n",
       "      <td>100.0</td>\n",
       "      <td>2</td>\n",
       "      <td>0.993377</td>\n",
       "    </tr>\n",
       "    <tr>\n",
       "      <th>2</th>\n",
       "      <td>2</td>\n",
       "      <td>Liam Taylor</td>\n",
       "      <td>Harvard University, USA</td>\n",
       "      <td>B.Com</td>\n",
       "      <td>Accounting Analytics</td>\n",
       "      <td>5th</td>\n",
       "      <td>BA</td>\n",
       "      <td>50.0</td>\n",
       "      <td>50.0</td>\n",
       "      <td>100.0</td>\n",
       "      <td>3</td>\n",
       "      <td>0.986755</td>\n",
       "    </tr>\n",
       "    <tr>\n",
       "      <th>3</th>\n",
       "      <td>3</td>\n",
       "      <td>Evelyn Jenkins</td>\n",
       "      <td>Stanford University, USA</td>\n",
       "      <td>B.Com</td>\n",
       "      <td>Honours</td>\n",
       "      <td>5th</td>\n",
       "      <td>Finance</td>\n",
       "      <td>49.0</td>\n",
       "      <td>50.0</td>\n",
       "      <td>99.0</td>\n",
       "      <td>4</td>\n",
       "      <td>0.980132</td>\n",
       "    </tr>\n",
       "    <tr>\n",
       "      <th>4</th>\n",
       "      <td>4</td>\n",
       "      <td>Michael Jackson</td>\n",
       "      <td>Harvard University, USA</td>\n",
       "      <td>MBA</td>\n",
       "      <td>International Business</td>\n",
       "      <td>3rd</td>\n",
       "      <td>IB</td>\n",
       "      <td>50.0</td>\n",
       "      <td>49.0</td>\n",
       "      <td>99.0</td>\n",
       "      <td>5</td>\n",
       "      <td>0.973510</td>\n",
       "    </tr>\n",
       "  </tbody>\n",
       "</table>\n",
       "</div>"
      ],
      "text/plain": [
       "   Unnamed: 0 NAME OF THE STUDENT                UNIVERSITY PROGRAM NAME  \\\n",
       "0           0         Camila Wood  Stanford University, USA        B.Com   \n",
       "1           1  Alexander Thompson  Stanford University, USA        B.Com   \n",
       "2           2         Liam Taylor   Harvard University, USA        B.Com   \n",
       "3           3      Evelyn Jenkins  Stanford University, USA        B.Com   \n",
       "4           4     Michael Jackson   Harvard University, USA          MBA   \n",
       "\n",
       "           Specialisation SEMESTER   Domain  \\\n",
       "0                 Honours      5th  Finance   \n",
       "1      Financial Services      5th  Finance   \n",
       "2    Accounting Analytics      5th       BA   \n",
       "3                 Honours      5th  Finance   \n",
       "4  International Business      3rd       IB   \n",
       "\n",
       "   GENERAL MANAGEMENT SCORE (OUT of 50)  Domain Specific SCORE (OUT 50)  \\\n",
       "0                                  50.0                            50.0   \n",
       "1                                  50.0                            50.0   \n",
       "2                                  50.0                            50.0   \n",
       "3                                  49.0                            50.0   \n",
       "4                                  50.0                            49.0   \n",
       "\n",
       "   TOTAL SCORE (OUT of 100)  RANK  PERCENTILE  \n",
       "0                     100.0     1    1.000000  \n",
       "1                     100.0     2    0.993377  \n",
       "2                     100.0     3    0.986755  \n",
       "3                      99.0     4    0.980132  \n",
       "4                      99.0     5    0.973510  "
      ]
     },
     "execution_count": 4,
     "metadata": {},
     "output_type": "execute_result"
    }
   ],
   "source": [
    "df.head()"
   ]
  },
  {
   "cell_type": "code",
   "execution_count": 5,
   "metadata": {},
   "outputs": [
    {
     "data": {
      "text/html": [
       "<div>\n",
       "<style scoped>\n",
       "    .dataframe tbody tr th:only-of-type {\n",
       "        vertical-align: middle;\n",
       "    }\n",
       "\n",
       "    .dataframe tbody tr th {\n",
       "        vertical-align: top;\n",
       "    }\n",
       "\n",
       "    .dataframe thead th {\n",
       "        text-align: right;\n",
       "    }\n",
       "</style>\n",
       "<table border=\"1\" class=\"dataframe\">\n",
       "  <thead>\n",
       "    <tr style=\"text-align: right;\">\n",
       "      <th></th>\n",
       "      <th>Unnamed: 0</th>\n",
       "      <th>NAME OF THE STUDENT</th>\n",
       "      <th>UNIVERSITY</th>\n",
       "      <th>PROGRAM NAME</th>\n",
       "      <th>Specialisation</th>\n",
       "      <th>SEMESTER</th>\n",
       "      <th>Domain</th>\n",
       "      <th>GENERAL MANAGEMENT SCORE (OUT of 50)</th>\n",
       "      <th>Domain Specific SCORE (OUT 50)</th>\n",
       "      <th>TOTAL SCORE (OUT of 100)</th>\n",
       "      <th>RANK</th>\n",
       "      <th>PERCENTILE</th>\n",
       "    </tr>\n",
       "  </thead>\n",
       "  <tbody>\n",
       "    <tr>\n",
       "      <th>146</th>\n",
       "      <td>146</td>\n",
       "      <td>Avery Lewis</td>\n",
       "      <td>Stanford University, USA</td>\n",
       "      <td>BBA</td>\n",
       "      <td>Financial Services</td>\n",
       "      <td>5th</td>\n",
       "      <td>Finance</td>\n",
       "      <td>16.0</td>\n",
       "      <td>12.0</td>\n",
       "      <td>28.0</td>\n",
       "      <td>147</td>\n",
       "      <td>0.033113</td>\n",
       "    </tr>\n",
       "    <tr>\n",
       "      <th>147</th>\n",
       "      <td>147</td>\n",
       "      <td>Ethan Martin</td>\n",
       "      <td>Stanford University, USA</td>\n",
       "      <td>BBA</td>\n",
       "      <td>International Business</td>\n",
       "      <td>5th</td>\n",
       "      <td>Generic</td>\n",
       "      <td>11.0</td>\n",
       "      <td>NaN</td>\n",
       "      <td>24.0</td>\n",
       "      <td>148</td>\n",
       "      <td>0.026490</td>\n",
       "    </tr>\n",
       "    <tr>\n",
       "      <th>148</th>\n",
       "      <td>148</td>\n",
       "      <td>Nicholas Rodriguez</td>\n",
       "      <td>Harvard University, USA</td>\n",
       "      <td>MBA</td>\n",
       "      <td>International Business</td>\n",
       "      <td>3rd</td>\n",
       "      <td>IB</td>\n",
       "      <td>16.0</td>\n",
       "      <td>8.0</td>\n",
       "      <td>24.0</td>\n",
       "      <td>149</td>\n",
       "      <td>0.019868</td>\n",
       "    </tr>\n",
       "    <tr>\n",
       "      <th>149</th>\n",
       "      <td>149</td>\n",
       "      <td>Samuel Perez</td>\n",
       "      <td>Stanford University, USA</td>\n",
       "      <td>BBA</td>\n",
       "      <td>International Business</td>\n",
       "      <td>5th</td>\n",
       "      <td>IB</td>\n",
       "      <td>12.0</td>\n",
       "      <td>8.0</td>\n",
       "      <td>20.0</td>\n",
       "      <td>150</td>\n",
       "      <td>0.013245</td>\n",
       "    </tr>\n",
       "    <tr>\n",
       "      <th>150</th>\n",
       "      <td>150</td>\n",
       "      <td>Emily Lee</td>\n",
       "      <td>Massachusetts Institute of Technology (MIT), USA</td>\n",
       "      <td>BBA</td>\n",
       "      <td>Digital Marketing</td>\n",
       "      <td>5th</td>\n",
       "      <td>DM</td>\n",
       "      <td>4.0</td>\n",
       "      <td>1.0</td>\n",
       "      <td>5.0</td>\n",
       "      <td>151</td>\n",
       "      <td>0.006623</td>\n",
       "    </tr>\n",
       "  </tbody>\n",
       "</table>\n",
       "</div>"
      ],
      "text/plain": [
       "     Unnamed: 0 NAME OF THE STUDENT  \\\n",
       "146         146         Avery Lewis   \n",
       "147         147        Ethan Martin   \n",
       "148         148  Nicholas Rodriguez   \n",
       "149         149        Samuel Perez   \n",
       "150         150           Emily Lee   \n",
       "\n",
       "                                           UNIVERSITY PROGRAM NAME  \\\n",
       "146                          Stanford University, USA          BBA   \n",
       "147                          Stanford University, USA          BBA   \n",
       "148                           Harvard University, USA          MBA   \n",
       "149                          Stanford University, USA          BBA   \n",
       "150  Massachusetts Institute of Technology (MIT), USA          BBA   \n",
       "\n",
       "             Specialisation SEMESTER   Domain  \\\n",
       "146      Financial Services      5th  Finance   \n",
       "147  International Business      5th  Generic   \n",
       "148  International Business      3rd       IB   \n",
       "149  International Business      5th       IB   \n",
       "150       Digital Marketing      5th       DM   \n",
       "\n",
       "     GENERAL MANAGEMENT SCORE (OUT of 50)  Domain Specific SCORE (OUT 50)  \\\n",
       "146                                  16.0                            12.0   \n",
       "147                                  11.0                             NaN   \n",
       "148                                  16.0                             8.0   \n",
       "149                                  12.0                             8.0   \n",
       "150                                   4.0                             1.0   \n",
       "\n",
       "     TOTAL SCORE (OUT of 100)  RANK  PERCENTILE  \n",
       "146                      28.0   147    0.033113  \n",
       "147                      24.0   148    0.026490  \n",
       "148                      24.0   149    0.019868  \n",
       "149                      20.0   150    0.013245  \n",
       "150                       5.0   151    0.006623  "
      ]
     },
     "execution_count": 5,
     "metadata": {},
     "output_type": "execute_result"
    }
   ],
   "source": [
    "df.tail()"
   ]
  },
  {
   "cell_type": "code",
   "execution_count": 6,
   "metadata": {},
   "outputs": [
    {
     "data": {
      "text/html": [
       "<div>\n",
       "<style scoped>\n",
       "    .dataframe tbody tr th:only-of-type {\n",
       "        vertical-align: middle;\n",
       "    }\n",
       "\n",
       "    .dataframe tbody tr th {\n",
       "        vertical-align: top;\n",
       "    }\n",
       "\n",
       "    .dataframe thead th {\n",
       "        text-align: right;\n",
       "    }\n",
       "</style>\n",
       "<table border=\"1\" class=\"dataframe\">\n",
       "  <thead>\n",
       "    <tr style=\"text-align: right;\">\n",
       "      <th></th>\n",
       "      <th>Unnamed: 0</th>\n",
       "      <th>NAME OF THE STUDENT</th>\n",
       "      <th>UNIVERSITY</th>\n",
       "      <th>PROGRAM NAME</th>\n",
       "      <th>Specialisation</th>\n",
       "      <th>SEMESTER</th>\n",
       "      <th>Domain</th>\n",
       "      <th>GENERAL MANAGEMENT SCORE (OUT of 50)</th>\n",
       "      <th>Domain Specific SCORE (OUT 50)</th>\n",
       "      <th>TOTAL SCORE (OUT of 100)</th>\n",
       "      <th>RANK</th>\n",
       "      <th>PERCENTILE</th>\n",
       "    </tr>\n",
       "  </thead>\n",
       "  <tbody>\n",
       "    <tr>\n",
       "      <th>0</th>\n",
       "      <td>False</td>\n",
       "      <td>False</td>\n",
       "      <td>False</td>\n",
       "      <td>False</td>\n",
       "      <td>False</td>\n",
       "      <td>False</td>\n",
       "      <td>False</td>\n",
       "      <td>False</td>\n",
       "      <td>False</td>\n",
       "      <td>False</td>\n",
       "      <td>False</td>\n",
       "      <td>False</td>\n",
       "    </tr>\n",
       "    <tr>\n",
       "      <th>1</th>\n",
       "      <td>False</td>\n",
       "      <td>False</td>\n",
       "      <td>False</td>\n",
       "      <td>False</td>\n",
       "      <td>False</td>\n",
       "      <td>False</td>\n",
       "      <td>False</td>\n",
       "      <td>False</td>\n",
       "      <td>False</td>\n",
       "      <td>False</td>\n",
       "      <td>False</td>\n",
       "      <td>False</td>\n",
       "    </tr>\n",
       "    <tr>\n",
       "      <th>2</th>\n",
       "      <td>False</td>\n",
       "      <td>False</td>\n",
       "      <td>False</td>\n",
       "      <td>False</td>\n",
       "      <td>False</td>\n",
       "      <td>False</td>\n",
       "      <td>False</td>\n",
       "      <td>False</td>\n",
       "      <td>False</td>\n",
       "      <td>False</td>\n",
       "      <td>False</td>\n",
       "      <td>False</td>\n",
       "    </tr>\n",
       "    <tr>\n",
       "      <th>3</th>\n",
       "      <td>False</td>\n",
       "      <td>False</td>\n",
       "      <td>False</td>\n",
       "      <td>False</td>\n",
       "      <td>False</td>\n",
       "      <td>False</td>\n",
       "      <td>False</td>\n",
       "      <td>False</td>\n",
       "      <td>False</td>\n",
       "      <td>False</td>\n",
       "      <td>False</td>\n",
       "      <td>False</td>\n",
       "    </tr>\n",
       "    <tr>\n",
       "      <th>4</th>\n",
       "      <td>False</td>\n",
       "      <td>False</td>\n",
       "      <td>False</td>\n",
       "      <td>False</td>\n",
       "      <td>False</td>\n",
       "      <td>False</td>\n",
       "      <td>False</td>\n",
       "      <td>False</td>\n",
       "      <td>False</td>\n",
       "      <td>False</td>\n",
       "      <td>False</td>\n",
       "      <td>False</td>\n",
       "    </tr>\n",
       "    <tr>\n",
       "      <th>...</th>\n",
       "      <td>...</td>\n",
       "      <td>...</td>\n",
       "      <td>...</td>\n",
       "      <td>...</td>\n",
       "      <td>...</td>\n",
       "      <td>...</td>\n",
       "      <td>...</td>\n",
       "      <td>...</td>\n",
       "      <td>...</td>\n",
       "      <td>...</td>\n",
       "      <td>...</td>\n",
       "      <td>...</td>\n",
       "    </tr>\n",
       "    <tr>\n",
       "      <th>146</th>\n",
       "      <td>False</td>\n",
       "      <td>False</td>\n",
       "      <td>False</td>\n",
       "      <td>False</td>\n",
       "      <td>False</td>\n",
       "      <td>False</td>\n",
       "      <td>False</td>\n",
       "      <td>False</td>\n",
       "      <td>False</td>\n",
       "      <td>False</td>\n",
       "      <td>False</td>\n",
       "      <td>False</td>\n",
       "    </tr>\n",
       "    <tr>\n",
       "      <th>147</th>\n",
       "      <td>False</td>\n",
       "      <td>False</td>\n",
       "      <td>False</td>\n",
       "      <td>False</td>\n",
       "      <td>False</td>\n",
       "      <td>False</td>\n",
       "      <td>False</td>\n",
       "      <td>False</td>\n",
       "      <td>True</td>\n",
       "      <td>False</td>\n",
       "      <td>False</td>\n",
       "      <td>False</td>\n",
       "    </tr>\n",
       "    <tr>\n",
       "      <th>148</th>\n",
       "      <td>False</td>\n",
       "      <td>False</td>\n",
       "      <td>False</td>\n",
       "      <td>False</td>\n",
       "      <td>False</td>\n",
       "      <td>False</td>\n",
       "      <td>False</td>\n",
       "      <td>False</td>\n",
       "      <td>False</td>\n",
       "      <td>False</td>\n",
       "      <td>False</td>\n",
       "      <td>False</td>\n",
       "    </tr>\n",
       "    <tr>\n",
       "      <th>149</th>\n",
       "      <td>False</td>\n",
       "      <td>False</td>\n",
       "      <td>False</td>\n",
       "      <td>False</td>\n",
       "      <td>False</td>\n",
       "      <td>False</td>\n",
       "      <td>False</td>\n",
       "      <td>False</td>\n",
       "      <td>False</td>\n",
       "      <td>False</td>\n",
       "      <td>False</td>\n",
       "      <td>False</td>\n",
       "    </tr>\n",
       "    <tr>\n",
       "      <th>150</th>\n",
       "      <td>False</td>\n",
       "      <td>False</td>\n",
       "      <td>False</td>\n",
       "      <td>False</td>\n",
       "      <td>False</td>\n",
       "      <td>False</td>\n",
       "      <td>False</td>\n",
       "      <td>False</td>\n",
       "      <td>False</td>\n",
       "      <td>False</td>\n",
       "      <td>False</td>\n",
       "      <td>False</td>\n",
       "    </tr>\n",
       "  </tbody>\n",
       "</table>\n",
       "<p>151 rows × 12 columns</p>\n",
       "</div>"
      ],
      "text/plain": [
       "     Unnamed: 0  NAME OF THE STUDENT  UNIVERSITY  PROGRAM NAME  \\\n",
       "0         False                False       False         False   \n",
       "1         False                False       False         False   \n",
       "2         False                False       False         False   \n",
       "3         False                False       False         False   \n",
       "4         False                False       False         False   \n",
       "..          ...                  ...         ...           ...   \n",
       "146       False                False       False         False   \n",
       "147       False                False       False         False   \n",
       "148       False                False       False         False   \n",
       "149       False                False       False         False   \n",
       "150       False                False       False         False   \n",
       "\n",
       "     Specialisation  SEMESTER  Domain  GENERAL MANAGEMENT SCORE (OUT of 50)  \\\n",
       "0             False     False   False                                 False   \n",
       "1             False     False   False                                 False   \n",
       "2             False     False   False                                 False   \n",
       "3             False     False   False                                 False   \n",
       "4             False     False   False                                 False   \n",
       "..              ...       ...     ...                                   ...   \n",
       "146           False     False   False                                 False   \n",
       "147           False     False   False                                 False   \n",
       "148           False     False   False                                 False   \n",
       "149           False     False   False                                 False   \n",
       "150           False     False   False                                 False   \n",
       "\n",
       "     Domain Specific SCORE (OUT 50)  TOTAL SCORE (OUT of 100)   RANK  \\\n",
       "0                             False                     False  False   \n",
       "1                             False                     False  False   \n",
       "2                             False                     False  False   \n",
       "3                             False                     False  False   \n",
       "4                             False                     False  False   \n",
       "..                              ...                       ...    ...   \n",
       "146                           False                     False  False   \n",
       "147                            True                     False  False   \n",
       "148                           False                     False  False   \n",
       "149                           False                     False  False   \n",
       "150                           False                     False  False   \n",
       "\n",
       "     PERCENTILE  \n",
       "0         False  \n",
       "1         False  \n",
       "2         False  \n",
       "3         False  \n",
       "4         False  \n",
       "..          ...  \n",
       "146       False  \n",
       "147       False  \n",
       "148       False  \n",
       "149       False  \n",
       "150       False  \n",
       "\n",
       "[151 rows x 12 columns]"
      ]
     },
     "execution_count": 6,
     "metadata": {},
     "output_type": "execute_result"
    }
   ],
   "source": [
    "df.isnull()"
   ]
  },
  {
   "cell_type": "code",
   "execution_count": 7,
   "metadata": {},
   "outputs": [
    {
     "data": {
      "text/plain": [
       "Unnamed: 0                              0\n",
       "NAME OF THE STUDENT                     0\n",
       "UNIVERSITY                              0\n",
       "PROGRAM NAME                            0\n",
       "Specialisation                          0\n",
       "SEMESTER                                0\n",
       "Domain                                  0\n",
       "GENERAL MANAGEMENT SCORE (OUT of 50)    3\n",
       "Domain Specific SCORE (OUT 50)          6\n",
       "TOTAL SCORE (OUT of 100)                1\n",
       "RANK                                    0\n",
       "PERCENTILE                              0\n",
       "dtype: int64"
      ]
     },
     "execution_count": 7,
     "metadata": {},
     "output_type": "execute_result"
    }
   ],
   "source": [
    "df.isnull().sum()"
   ]
  },
  {
   "cell_type": "markdown",
   "metadata": {},
   "source": [
    "Dropping NULL values and creating a new dataframe with no NULL values"
   ]
  },
  {
   "cell_type": "code",
   "execution_count": 8,
   "metadata": {},
   "outputs": [
    {
     "data": {
      "text/plain": [
       "Unnamed: 0                              0\n",
       "NAME OF THE STUDENT                     0\n",
       "UNIVERSITY                              0\n",
       "PROGRAM NAME                            0\n",
       "Specialisation                          0\n",
       "SEMESTER                                0\n",
       "Domain                                  0\n",
       "GENERAL MANAGEMENT SCORE (OUT of 50)    0\n",
       "Domain Specific SCORE (OUT 50)          0\n",
       "TOTAL SCORE (OUT of 100)                0\n",
       "RANK                                    0\n",
       "PERCENTILE                              0\n",
       "dtype: int64"
      ]
     },
     "execution_count": 8,
     "metadata": {},
     "output_type": "execute_result"
    }
   ],
   "source": [
    "new_df = df.dropna()\n",
    "new_df.isnull().sum()"
   ]
  },
  {
   "cell_type": "markdown",
   "metadata": {},
   "source": [
    "Filling the NULL values in original dataset with mean values"
   ]
  },
  {
   "cell_type": "code",
   "execution_count": 9,
   "metadata": {},
   "outputs": [
    {
     "data": {
      "text/plain": [
       "Unnamed: 0                              0\n",
       "NAME OF THE STUDENT                     0\n",
       "UNIVERSITY                              0\n",
       "PROGRAM NAME                            0\n",
       "Specialisation                          0\n",
       "SEMESTER                                0\n",
       "Domain                                  0\n",
       "GENERAL MANAGEMENT SCORE (OUT of 50)    3\n",
       "Domain Specific SCORE (OUT 50)          6\n",
       "TOTAL SCORE (OUT of 100)                1\n",
       "RANK                                    0\n",
       "PERCENTILE                              0\n",
       "dtype: int64"
      ]
     },
     "execution_count": 9,
     "metadata": {},
     "output_type": "execute_result"
    }
   ],
   "source": [
    "new_df1 = df.copy()\n",
    "new_df1.isnull().sum()"
   ]
  },
  {
   "cell_type": "code",
   "execution_count": 10,
   "metadata": {},
   "outputs": [
    {
     "data": {
      "text/plain": [
       "Unnamed: 0                              0\n",
       "NAME OF THE STUDENT                     0\n",
       "UNIVERSITY                              0\n",
       "PROGRAM NAME                            0\n",
       "Specialisation                          0\n",
       "SEMESTER                                0\n",
       "Domain                                  0\n",
       "GENERAL MANAGEMENT SCORE (OUT of 50)    0\n",
       "Domain Specific SCORE (OUT 50)          6\n",
       "TOTAL SCORE (OUT of 100)                1\n",
       "RANK                                    0\n",
       "PERCENTILE                              0\n",
       "dtype: int64"
      ]
     },
     "execution_count": 10,
     "metadata": {},
     "output_type": "execute_result"
    }
   ],
   "source": [
    "new_df1['GENERAL MANAGEMENT SCORE (OUT of 50)'] = new_df1['GENERAL MANAGEMENT SCORE (OUT of 50)'].fillna((new_df1['GENERAL MANAGEMENT SCORE (OUT of 50)'].mean()))\n",
    "new_df1.isnull().sum()"
   ]
  },
  {
   "cell_type": "code",
   "execution_count": 11,
   "metadata": {},
   "outputs": [
    {
     "data": {
      "text/plain": [
       "Unnamed: 0                              0\n",
       "NAME OF THE STUDENT                     0\n",
       "UNIVERSITY                              0\n",
       "PROGRAM NAME                            0\n",
       "Specialisation                          0\n",
       "SEMESTER                                0\n",
       "Domain                                  0\n",
       "GENERAL MANAGEMENT SCORE (OUT of 50)    0\n",
       "Domain Specific SCORE (OUT 50)          0\n",
       "TOTAL SCORE (OUT of 100)                0\n",
       "RANK                                    0\n",
       "PERCENTILE                              0\n",
       "dtype: int64"
      ]
     },
     "execution_count": 11,
     "metadata": {},
     "output_type": "execute_result"
    }
   ],
   "source": [
    "new_df1['Domain Specific SCORE (OUT 50)'] = new_df1['Domain Specific SCORE (OUT 50)'].fillna((new_df1['Domain Specific SCORE (OUT 50)'].mean()))\n",
    "new_df1['TOTAL SCORE (OUT of 100)'] = new_df1['TOTAL SCORE (OUT of 100)'].fillna((new_df1['TOTAL SCORE (OUT of 100)'].mean()))\n",
    "new_df1.isnull().sum()"
   ]
  },
  {
   "cell_type": "markdown",
   "metadata": {},
   "source": [
    "Outliers"
   ]
  },
  {
   "cell_type": "code",
   "execution_count": 12,
   "metadata": {},
   "outputs": [],
   "source": [
    "import matplotlib.pyplot as plt\n",
    "import seaborn as sns"
   ]
  },
  {
   "cell_type": "code",
   "execution_count": 13,
   "metadata": {},
   "outputs": [
    {
     "data": {
      "text/plain": [
       "<Axes: >"
      ]
     },
     "execution_count": 13,
     "metadata": {},
     "output_type": "execute_result"
    },
    {
     "data": {
      "image/png": "[encoded data removed]",
      "text/plain": [
       "<Figure size 640x480 with 1 Axes>"
      ]
     },
     "metadata": {},
     "output_type": "display_data"
    }
   ],
   "source": [
    "sns.boxplot(new_df1['GENERAL MANAGEMENT SCORE (OUT of 50)'])"
   ]
  },
  {
   "cell_type": "code",
   "execution_count": 14,
   "metadata": {},
   "outputs": [
    {
     "data": {
      "text/plain": [
       "<Axes: >"
      ]
     },
     "execution_count": 14,
     "metadata": {},
     "output_type": "execute_result"
    },
    {
     "data": {
      "image/png": "[encoded data removed]",
      "text/plain": [
       "<Figure size 640x480 with 1 Axes>"
      ]
     },
     "metadata": {},
     "output_type": "display_data"
    }
   ],
   "source": [
    "sns.boxplot(new_df1['Domain Specific SCORE (OUT 50)'])"
   ]
  },
  {
   "cell_type": "code",
   "execution_count": 15,
   "metadata": {},
   "outputs": [
    {
     "data": {
      "text/plain": [
       "<Axes: >"
      ]
     },
     "execution_count": 15,
     "metadata": {},
     "output_type": "execute_result"
    },
    {
     "data": {
      "image/png": "[encoded data removed]",
      "text/plain": [
       "<Figure size 640x480 with 1 Axes>"
      ]
     },
     "metadata": {},
     "output_type": "display_data"
    }
   ],
   "source": [
    "sns.boxplot(new_df1['TOTAL SCORE (OUT of 100)'])"
   ]
  }
 ],
 "metadata": {
  "kernelspec": {
   "display_name": "Python 3",
   "language": "python",
   "name": "python3"
  },
  "language_info": {
   "codemirror_mode": {
    "name": "ipython",
    "version": 3
   },
   "file_extension": ".py",
   "mimetype": "text/x-python",
   "name": "python",
   "nbconvert_exporter": "python",
   "pygments_lexer": "ipython3",
   "version": "3.10.9"
  },
  "orig_nbformat": 4
 },
 "nbformat": 4,
 "nbformat_minor": 2
}
